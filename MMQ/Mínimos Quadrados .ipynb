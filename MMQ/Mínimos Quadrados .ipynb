{
 "cells": [
  {
   "cell_type": "code",
   "execution_count": 2,
   "metadata": {},
   "outputs": [],
   "source": [
    "import pandas as pd\n",
    "import numpy as np\n",
    "import matplotlib.pyplot as plt\n",
    "from mpl_toolkits.mplot3d import Axes3D"
   ]
  },
  {
   "cell_type": "markdown",
   "metadata": {},
   "source": [
    "# Mínimos Quadrados "
   ]
  },
  {
   "cell_type": "markdown",
   "metadata": {},
   "source": [
    "## Carl Friedrich  Gauss"
   ]
  },
  {
   "cell_type": "markdown",
   "metadata": {},
   "source": [
    "Gauss foi um desses gênios que passaram aqui na terra. Um matemático, físico e astrômo que contribuiu e muito em varias áreas da ciência e engenharia. Ele foi apelidado como o príncipe da matemática. E seus descobrimentos são usados até hoje nos metodos de otimização e estatistica. O mais conhecido e que vamos estudar é o Método dos Mínimos Quadrados. "
   ]
  },
  {
   "cell_type": "markdown",
   "metadata": {},
   "source": [
    "## Caixa Extraterrestre"
   ]
  },
  {
   "cell_type": "markdown",
   "metadata": {},
   "source": [
    "Vamos supor que um morador da cidade de Varginha estivesse andando pela cidade e tropeçasse em uma caixa estranha. Essa caixa é de um material que ninguém conhece. Ela é indestrutível e impossível de ser aberta. O morador observa essa caixa e descobre algo que se parece com um conector de entrada. Se ele não consegue abrir essa caixa, como que ele vai saber o que essa caixa faz? \n",
    "\n",
    "Aparentemente essa caixa é bem leve embora seu material ser extremamente resistente e duro. Com certeza não é de nenhum material conhecido. Eu teria que pensar o que eu poderia colocar como uma entrada para que ela me retorne uma resposta. Uma entrada possível seria jogar essa caixa no chão com toda minha força. No momento, essas são as minhas únicas ferramentas. A entrada seria a minha força somanda com a força peso da caixa. A saída esperada seria uma deformação da caixa ao colidir com o chão. Porém nada aconteceu com a caixa.\n",
    "\n",
    "Eu sou um cientista e decido levar essa caixa para um laboratório. Lá eu realizo entradas mais precisas para essa caixa. Faço todos os teste de força para ver se eu consigo alguma saída. Mas sem sucesso. Concluo que com as ferramentas existentes no labaratório eu não consigo deformar a caixa. \n",
    "\n",
    "Depois de fazer todos os testes de resistência. Eu observo novamente essa caixa e reparo o que parece ser um conector elétrico. Aplico uma tensão elétrica na entrada. Vejo uma fluxo luminoso nessa caixa. Sabendo disso, eu aplico varios valores de tensão na entrada e verifico se o fluxo luminoso muda. Guardo os valores de tensão no vetor x e o de luminosidade em y."
   ]
  },
  {
   "cell_type": "markdown",
   "metadata": {},
   "source": [
    "$$ x_{nx1} = \\begin{vmatrix}x_1 \\\\ ...\\\\ x_n \\end{vmatrix} \\quad y_{nx1} = \\begin{vmatrix}y_1 \\\\ ...\\\\ y_n \\end{vmatrix}  $$"
   ]
  },
  {
   "cell_type": "code",
   "execution_count": 3,
   "metadata": {},
   "outputs": [
    {
     "data": {
      "text/html": [
       "<div>\n",
       "<style scoped>\n",
       "    .dataframe tbody tr th:only-of-type {\n",
       "        vertical-align: middle;\n",
       "    }\n",
       "\n",
       "    .dataframe tbody tr th {\n",
       "        vertical-align: top;\n",
       "    }\n",
       "\n",
       "    .dataframe thead th {\n",
       "        text-align: right;\n",
       "    }\n",
       "</style>\n",
       "<table border=\"1\" class=\"dataframe\">\n",
       "  <thead>\n",
       "    <tr style=\"text-align: right;\">\n",
       "      <th></th>\n",
       "      <th>x_volt</th>\n",
       "      <th>y_lm</th>\n",
       "    </tr>\n",
       "  </thead>\n",
       "  <tbody>\n",
       "    <tr>\n",
       "      <th>0</th>\n",
       "      <td>10</td>\n",
       "      <td>-9975.530825</td>\n",
       "    </tr>\n",
       "    <tr>\n",
       "      <th>1</th>\n",
       "      <td>12</td>\n",
       "      <td>5533.646693</td>\n",
       "    </tr>\n",
       "    <tr>\n",
       "      <th>2</th>\n",
       "      <td>14</td>\n",
       "      <td>761.023172</td>\n",
       "    </tr>\n",
       "    <tr>\n",
       "      <th>3</th>\n",
       "      <td>16</td>\n",
       "      <td>20245.782889</td>\n",
       "    </tr>\n",
       "    <tr>\n",
       "      <th>4</th>\n",
       "      <td>18</td>\n",
       "      <td>2656.569042</td>\n",
       "    </tr>\n",
       "    <tr>\n",
       "      <th>5</th>\n",
       "      <td>20</td>\n",
       "      <td>17246.190378</td>\n",
       "    </tr>\n",
       "    <tr>\n",
       "      <th>6</th>\n",
       "      <td>22</td>\n",
       "      <td>2837.426231</td>\n",
       "    </tr>\n",
       "    <tr>\n",
       "      <th>7</th>\n",
       "      <td>24</td>\n",
       "      <td>8689.808312</td>\n",
       "    </tr>\n",
       "    <tr>\n",
       "      <th>8</th>\n",
       "      <td>26</td>\n",
       "      <td>21207.007780</td>\n",
       "    </tr>\n",
       "    <tr>\n",
       "      <th>9</th>\n",
       "      <td>28</td>\n",
       "      <td>15697.892940</td>\n",
       "    </tr>\n",
       "    <tr>\n",
       "      <th>10</th>\n",
       "      <td>30</td>\n",
       "      <td>16974.465434</td>\n",
       "    </tr>\n",
       "    <tr>\n",
       "      <th>11</th>\n",
       "      <td>32</td>\n",
       "      <td>25582.510221</td>\n",
       "    </tr>\n",
       "    <tr>\n",
       "      <th>12</th>\n",
       "      <td>34</td>\n",
       "      <td>24175.181177</td>\n",
       "    </tr>\n",
       "    <tr>\n",
       "      <th>13</th>\n",
       "      <td>36</td>\n",
       "      <td>33431.586304</td>\n",
       "    </tr>\n",
       "    <tr>\n",
       "      <th>14</th>\n",
       "      <td>38</td>\n",
       "      <td>24261.704102</td>\n",
       "    </tr>\n",
       "    <tr>\n",
       "      <th>15</th>\n",
       "      <td>40</td>\n",
       "      <td>22170.019419</td>\n",
       "    </tr>\n",
       "    <tr>\n",
       "      <th>16</th>\n",
       "      <td>42</td>\n",
       "      <td>29702.339833</td>\n",
       "    </tr>\n",
       "    <tr>\n",
       "      <th>17</th>\n",
       "      <td>44</td>\n",
       "      <td>33855.435499</td>\n",
       "    </tr>\n",
       "    <tr>\n",
       "      <th>18</th>\n",
       "      <td>46</td>\n",
       "      <td>41328.125650</td>\n",
       "    </tr>\n",
       "    <tr>\n",
       "      <th>19</th>\n",
       "      <td>48</td>\n",
       "      <td>26402.263310</td>\n",
       "    </tr>\n",
       "    <tr>\n",
       "      <th>20</th>\n",
       "      <td>50</td>\n",
       "      <td>30264.953300</td>\n",
       "    </tr>\n",
       "    <tr>\n",
       "      <th>21</th>\n",
       "      <td>52</td>\n",
       "      <td>36274.404993</td>\n",
       "    </tr>\n",
       "    <tr>\n",
       "      <th>22</th>\n",
       "      <td>54</td>\n",
       "      <td>32701.206764</td>\n",
       "    </tr>\n",
       "    <tr>\n",
       "      <th>23</th>\n",
       "      <td>56</td>\n",
       "      <td>40958.414764</td>\n",
       "    </tr>\n",
       "    <tr>\n",
       "      <th>24</th>\n",
       "      <td>58</td>\n",
       "      <td>47746.028559</td>\n",
       "    </tr>\n",
       "  </tbody>\n",
       "</table>\n",
       "</div>"
      ],
      "text/plain": [
       "    x_volt          y_lm\n",
       "0       10  -9975.530825\n",
       "1       12   5533.646693\n",
       "2       14    761.023172\n",
       "3       16  20245.782889\n",
       "4       18   2656.569042\n",
       "5       20  17246.190378\n",
       "6       22   2837.426231\n",
       "7       24   8689.808312\n",
       "8       26  21207.007780\n",
       "9       28  15697.892940\n",
       "10      30  16974.465434\n",
       "11      32  25582.510221\n",
       "12      34  24175.181177\n",
       "13      36  33431.586304\n",
       "14      38  24261.704102\n",
       "15      40  22170.019419\n",
       "16      42  29702.339833\n",
       "17      44  33855.435499\n",
       "18      46  41328.125650\n",
       "19      48  26402.263310\n",
       "20      50  30264.953300\n",
       "21      52  36274.404993\n",
       "22      54  32701.206764\n",
       "23      56  40958.414764\n",
       "24      58  47746.028559"
      ]
     },
     "execution_count": 3,
     "metadata": {},
     "output_type": "execute_result"
    }
   ],
   "source": [
    "dados = pd.read_csv('caixa.csv')\n",
    "dados"
   ]
  },
  {
   "cell_type": "markdown",
   "metadata": {},
   "source": [
    "Com esses dados em mãos, construo um gráfico para ver seu comportamento."
   ]
  },
  {
   "cell_type": "code",
   "execution_count": 4,
   "metadata": {},
   "outputs": [
    {
     "data": {
      "text/plain": [
       "Text(0.5, 0, 'Tensão [v]')"
      ]
     },
     "execution_count": 4,
     "metadata": {},
     "output_type": "execute_result"
    },
    {
     "data": {
      "image/png": "[encoded data removed]",
      "text/plain": [
       "<Figure size 432x288 with 1 Axes>"
      ]
     },
     "metadata": {
      "needs_background": "light"
     },
     "output_type": "display_data"
    }
   ],
   "source": [
    "fig = plt.figure()\n",
    "ax = fig.add_subplot(1, 1, 1)\n",
    "ax.plot(dados['x_volt'],dados['y_lm'],'bs')\n",
    "ax.set_ylabel('fluxo Luminoso [lm]')\n",
    "ax.set_xlabel('Tensão [v]')\n"
   ]
  },
  {
   "cell_type": "markdown",
   "metadata": {},
   "source": [
    "Aparentemente podemos visualisar uma correlação linear positiva  entre a tensão e o fluxo luminoso. Mas não podemos afirmar só olhando para o gráfico já que existe uma variância nas medições. Para descobrir se exite uma correlação entre os dados podemos usar uma medida de correlação."
   ]
  },
  {
   "cell_type": "code",
   "execution_count": 5,
   "metadata": {
    "scrolled": true
   },
   "outputs": [
    {
     "data": {
      "text/html": [
       "<div>\n",
       "<style scoped>\n",
       "    .dataframe tbody tr th:only-of-type {\n",
       "        vertical-align: middle;\n",
       "    }\n",
       "\n",
       "    .dataframe tbody tr th {\n",
       "        vertical-align: top;\n",
       "    }\n",
       "\n",
       "    .dataframe thead th {\n",
       "        text-align: right;\n",
       "    }\n",
       "</style>\n",
       "<table border=\"1\" class=\"dataframe\">\n",
       "  <thead>\n",
       "    <tr style=\"text-align: right;\">\n",
       "      <th></th>\n",
       "      <th>x_volt</th>\n",
       "      <th>y_lm</th>\n",
       "    </tr>\n",
       "  </thead>\n",
       "  <tbody>\n",
       "    <tr>\n",
       "      <th>x_volt</th>\n",
       "      <td>1.000000</td>\n",
       "      <td>0.895976</td>\n",
       "    </tr>\n",
       "    <tr>\n",
       "      <th>y_lm</th>\n",
       "      <td>0.895976</td>\n",
       "      <td>1.000000</td>\n",
       "    </tr>\n",
       "  </tbody>\n",
       "</table>\n",
       "</div>"
      ],
      "text/plain": [
       "          x_volt      y_lm\n",
       "x_volt  1.000000  0.895976\n",
       "y_lm    0.895976  1.000000"
      ]
     },
     "execution_count": 5,
     "metadata": {},
     "output_type": "execute_result"
    }
   ],
   "source": [
    "dados.corr()\n"
   ]
  },
  {
   "cell_type": "markdown",
   "metadata": {},
   "source": [
    "A correlação é um valor entre -1 e 1. O sinal negativo nos diz se a correlação é positiva ou negativa. Quanto mais próximo de 1 menor será a variância. Entretando de a covariação for igual a 0, é sinal que não existe correlação entre os dados. \n",
    "\n",
    "Sabemos que exite existe uma correlação entre o fluxo luminoso e a tensão aplicada na caixa. Podemos achar a função f(x) que se comporta examente como a caixa?"
   ]
  },
  {
   "cell_type": "markdown",
   "metadata": {},
   "source": [
    "$$ f(x) = \\quad ?$$"
   ]
  },
  {
   "cell_type": "markdown",
   "metadata": {},
   "source": [
    "Vamos supor que f(x) seja uma reta com um coeficiente angular m e um coeficiente linear b. Essa reta ideial vou chamar de y(x). Com os dados que eu coletei da caixa eu consigo aproximar ao máximo dessa reta. Porém sempre existira um erro. Essa reta vou chamar de Z(X) e queremos descobrir qual é seu coeficiente angular $\\theta_1$ e seu coeficiente linear $\\theta_2$."
   ]
  },
  {
   "cell_type": "markdown",
   "metadata": {},
   "source": [
    "$$Z(X)= \\theta_1 X + \\theta_2 \\quad y(x) = mx + b $$ "
   ]
  },
  {
   "cell_type": "markdown",
   "metadata": {},
   "source": [
    "A melhor maneira de descobrirmos os valores de $\\theta_1$ e $\\theta_2$ é trabaramos com matrizes. Rearranjando Z(X) conseguimos isolar $\\theta_1$ e $\\theta_2$ em um vetor $\\Theta$"
   ]
  },
  {
   "cell_type": "markdown",
   "metadata": {},
   "source": [
    "$$Z_{[nx1]} = \\theta_1 \\begin{vmatrix}x_1 \\\\ ...\\\\ x_n \\end{vmatrix} + \\theta_2 = \\begin{vmatrix} \\theta_1 x_1 + \\theta_2 \\\\...\\\\ \\theta_1 x_n+\\theta_2 \\end{vmatrix} = \\begin{vmatrix} x_1 & 1\\\\... & ...\\\\x_n & 1 \\end{vmatrix} \\begin{vmatrix} \\theta_1 \\\\ \\theta_2\\end{vmatrix}$$"
   ]
  },
  {
   "cell_type": "markdown",
   "metadata": {},
   "source": [
    "A ideia genial de Gauss vem agora. Ele pensou qual são os valores de $\\Theta$ que minimizam ao máximo o erro entre a reta que eu quero achar e a reta ideal da caixa. "
   ]
  },
  {
   "cell_type": "markdown",
   "metadata": {},
   "source": [
    "$$\\Theta = \\begin{vmatrix}\n",
    "\\theta _1 \\\\ \n",
    "\\theta _2 \n",
    "\\end{vmatrix}$$"
   ]
  },
  {
   "cell_type": "markdown",
   "metadata": {},
   "source": [
    "$$ E = y - z$$"
   ]
  },
  {
   "cell_type": "code",
   "execution_count": 6,
   "metadata": {},
   "outputs": [],
   "source": [
    "a = 830\n",
    "b = -6600\n",
    "x = np.array(range(10,60,2))\n",
    "y = a*x+b# lm"
   ]
  },
  {
   "cell_type": "code",
   "execution_count": 30,
   "metadata": {},
   "outputs": [
    {
     "data": {
      "text/plain": [
       "<function matplotlib.pyplot.show(close=None, block=None)>"
      ]
     },
     "execution_count": 30,
     "metadata": {},
     "output_type": "execute_result"
    },
    {
     "data": {
      "image/png": "[encoded data removed]",
      "text/plain": [
       "<Figure size 432x288 with 1 Axes>"
      ]
     },
     "metadata": {
      "needs_background": "light"
     },
     "output_type": "display_data"
    }
   ],
   "source": [
    "x_plot = np.arange(0,60,10)\n",
    "y_plot = np.arange(0,6000,1000)\n",
    "\n",
    "X,Y = np.meshgrid(y,dados['y_lm'])\n",
    "\n",
    "Z = X + Y\n",
    "\n",
    "fig = plt.figure()\n",
    "ax = Axes3D(fig)\n",
    "\n",
    "ax.plot_surface(X,Y,Z)\n",
    "plt.show\n"
   ]
  },
  {
   "cell_type": "markdown",
   "metadata": {},
   "source": [
    "O erro mostrado no gráfico é um plano inclinado com uma grande e considerável numero de pontos. Testar cada um desses pontos para ver qual tem o menor erro é uma tarefa muito onerosa. Gaus então pensou, e se eu elevasse ao quadrado a função de erro."
   ]
  },
  {
   "cell_type": "markdown",
   "metadata": {},
   "source": [
    "$$E(\\Theta) = (y-z)^{2} $$"
   ]
  },
  {
   "cell_type": "code",
   "execution_count": 29,
   "metadata": {},
   "outputs": [
    {
     "data": {
      "image/png": "[encoded data removed]",
      "text/plain": [
       "<Figure size 432x288 with 1 Axes>"
      ]
     },
     "metadata": {
      "needs_background": "light"
     },
     "output_type": "display_data"
    }
   ],
   "source": [
    "\n",
    "def z_function(x, y):\n",
    "    return x ** 2 + y ** 2\n",
    "\n",
    "x = np.linspace(-6, 6, 30)\n",
    "y = np.linspace(-6, 6, 30)\n",
    "\n",
    "X, Y = np.meshgrid(x, y)\n",
    "Z = z_function(X, Y)\n",
    "\n",
    "fig = plt.figure()\n",
    "ax = plt.axes(projection=\"3d\")\n",
    "ax.plot_wireframe(X, Y, Z, color='green')\n",
    "ax.set_xlabel('x')\n",
    "ax.set_ylabel('y')\n",
    "ax.set_zlabel('z')\n",
    "\n",
    "plt.show()"
   ]
  },
  {
   "cell_type": "markdown",
   "metadata": {},
   "source": [
    "Agora obseva-se uma função quadrática. Ela agora possui um ponto de mínimo. Para encontrar o ponto de mínimo dessa função basta deriva e iguala a zero que lá está o ponto com o menor erro possível   "
   ]
  },
  {
   "cell_type": "markdown",
   "metadata": {},
   "source": [
    "$$\\frac{\\partial E}{\\partial \\Theta}=0$$"
   ]
  },
  {
   "cell_type": "markdown",
   "metadata": {},
   "source": [
    "### Regra da Cadeia "
   ]
  },
  {
   "cell_type": "markdown",
   "metadata": {},
   "source": [
    "Derivamos a função quadrática do erro em relação a $\\Theta$. Porém para fazer essa derivada precisamos realizar a regra da cadeia.  "
   ]
  },
  {
   "cell_type": "markdown",
   "metadata": {},
   "source": [
    "$$\\frac{\\partial E}{\\partial \\Theta}=\\frac{\\partial (y-z)^{2}}{\\partial \\Theta}$$"
   ]
  },
  {
   "cell_type": "markdown",
   "metadata": {},
   "source": [
    "$$\\frac{\\partial E}{\\partial \\Theta}=\\frac{\\partial E}{\\partial z}\\cdot \\frac{\\partial z}{\\partial \\Theta}$$"
   ]
  },
  {
   "cell_type": "markdown",
   "metadata": {},
   "source": [
    "$$\\frac{\\partial E}{\\partial z} = -2(y-z)_{[n\\times 1]}$$"
   ]
  },
  {
   "cell_type": "markdown",
   "metadata": {},
   "source": [
    "$$\\frac{\\partial z}{\\partial \\Theta} = X^{T}_{[2\\times n]}$$"
   ]
  },
  {
   "cell_type": "markdown",
   "metadata": {},
   "source": [
    "$$\\frac{\\partial E}{\\partial \\Theta} = -2X^{T}_{[2\\times n]}(y-z)_{[n\\times 1]}$$"
   ]
  },
  {
   "cell_type": "markdown",
   "metadata": {},
   "source": [
    "Com a deriada em mão,podemos fazer as subistituição de z por $X\\Theta$. Rearanjando a equação respeitando a álgebra e igualando a derrivada a zero chegamos da formula do método dos mínimos quadrados."
   ]
  },
  {
   "cell_type": "markdown",
   "metadata": {},
   "source": [
    "$$\\frac{\\partial E}{\\partial \\Theta} = -2X^{T}_{[2\\times n]}(y-X\\Theta)_{[n\\times 1]}$$"
   ]
  },
  {
   "cell_type": "markdown",
   "metadata": {},
   "source": [
    "$$\\frac{\\partial E}{\\partial \\Theta} = -2(X^{T}y - X^{T}X\\Theta)$$"
   ]
  },
  {
   "cell_type": "markdown",
   "metadata": {},
   "source": [
    "$$\\Theta  = (X^{T}\\cdot X)^{-1}X^{T}y$$"
   ]
  },
  {
   "cell_type": "markdown",
   "metadata": {},
   "source": [
    "# Função Método dos Mínimos Quadrados"
   ]
  },
  {
   "cell_type": "code",
   "execution_count": 9,
   "metadata": {},
   "outputs": [],
   "source": [
    "def mmq(x,y):\n",
    "    Mx = np.matrix([x, np.ones(len(x))])\n",
    "    M = Mx @ Mx.T\n",
    "    Minv = np.linalg.inv(M)\n",
    "    return Minv @ Mx @ y\n",
    "                   "
   ]
  },
  {
   "cell_type": "markdown",
   "metadata": {},
   "source": [
    "## Obtendo o Coeficiente Angular e Linear da Reta"
   ]
  },
  {
   "cell_type": "code",
   "execution_count": 10,
   "metadata": {},
   "outputs": [],
   "source": [
    "theta1, theta2 = mmq(dados['x_volt'],dados['y_lm'])\n"
   ]
  },
  {
   "cell_type": "markdown",
   "metadata": {},
   "source": [
    "## Achando os valoes de y para essa nova reta"
   ]
  },
  {
   "cell_type": "code",
   "execution_count": 11,
   "metadata": {},
   "outputs": [],
   "source": [
    "dados['y_mmq'] = theta1*dados['x_volt'] + theta2"
   ]
  },
  {
   "cell_type": "code",
   "execution_count": 12,
   "metadata": {},
   "outputs": [
    {
     "data": {
      "text/html": [
       "<div>\n",
       "<style scoped>\n",
       "    .dataframe tbody tr th:only-of-type {\n",
       "        vertical-align: middle;\n",
       "    }\n",
       "\n",
       "    .dataframe tbody tr th {\n",
       "        vertical-align: top;\n",
       "    }\n",
       "\n",
       "    .dataframe thead th {\n",
       "        text-align: right;\n",
       "    }\n",
       "</style>\n",
       "<table border=\"1\" class=\"dataframe\">\n",
       "  <thead>\n",
       "    <tr style=\"text-align: right;\">\n",
       "      <th></th>\n",
       "      <th>x_volt</th>\n",
       "      <th>y_lm</th>\n",
       "      <th>y_mmq</th>\n",
       "    </tr>\n",
       "  </thead>\n",
       "  <tbody>\n",
       "    <tr>\n",
       "      <th>0</th>\n",
       "      <td>10</td>\n",
       "      <td>-9975.530825</td>\n",
       "      <td>1134.888013</td>\n",
       "    </tr>\n",
       "    <tr>\n",
       "      <th>1</th>\n",
       "      <td>12</td>\n",
       "      <td>5533.646693</td>\n",
       "      <td>2876.075532</td>\n",
       "    </tr>\n",
       "    <tr>\n",
       "      <th>2</th>\n",
       "      <td>14</td>\n",
       "      <td>761.023172</td>\n",
       "      <td>4617.263050</td>\n",
       "    </tr>\n",
       "    <tr>\n",
       "      <th>3</th>\n",
       "      <td>16</td>\n",
       "      <td>20245.782889</td>\n",
       "      <td>6358.450569</td>\n",
       "    </tr>\n",
       "    <tr>\n",
       "      <th>4</th>\n",
       "      <td>18</td>\n",
       "      <td>2656.569042</td>\n",
       "      <td>8099.638088</td>\n",
       "    </tr>\n",
       "    <tr>\n",
       "      <th>5</th>\n",
       "      <td>20</td>\n",
       "      <td>17246.190378</td>\n",
       "      <td>9840.825607</td>\n",
       "    </tr>\n",
       "    <tr>\n",
       "      <th>6</th>\n",
       "      <td>22</td>\n",
       "      <td>2837.426231</td>\n",
       "      <td>11582.013125</td>\n",
       "    </tr>\n",
       "    <tr>\n",
       "      <th>7</th>\n",
       "      <td>24</td>\n",
       "      <td>8689.808312</td>\n",
       "      <td>13323.200644</td>\n",
       "    </tr>\n",
       "    <tr>\n",
       "      <th>8</th>\n",
       "      <td>26</td>\n",
       "      <td>21207.007780</td>\n",
       "      <td>15064.388163</td>\n",
       "    </tr>\n",
       "    <tr>\n",
       "      <th>9</th>\n",
       "      <td>28</td>\n",
       "      <td>15697.892940</td>\n",
       "      <td>16805.575681</td>\n",
       "    </tr>\n",
       "    <tr>\n",
       "      <th>10</th>\n",
       "      <td>30</td>\n",
       "      <td>16974.465434</td>\n",
       "      <td>18546.763200</td>\n",
       "    </tr>\n",
       "    <tr>\n",
       "      <th>11</th>\n",
       "      <td>32</td>\n",
       "      <td>25582.510221</td>\n",
       "      <td>20287.950719</td>\n",
       "    </tr>\n",
       "    <tr>\n",
       "      <th>12</th>\n",
       "      <td>34</td>\n",
       "      <td>24175.181177</td>\n",
       "      <td>22029.138238</td>\n",
       "    </tr>\n",
       "    <tr>\n",
       "      <th>13</th>\n",
       "      <td>36</td>\n",
       "      <td>33431.586304</td>\n",
       "      <td>23770.325756</td>\n",
       "    </tr>\n",
       "    <tr>\n",
       "      <th>14</th>\n",
       "      <td>38</td>\n",
       "      <td>24261.704102</td>\n",
       "      <td>25511.513275</td>\n",
       "    </tr>\n",
       "    <tr>\n",
       "      <th>15</th>\n",
       "      <td>40</td>\n",
       "      <td>22170.019419</td>\n",
       "      <td>27252.700794</td>\n",
       "    </tr>\n",
       "    <tr>\n",
       "      <th>16</th>\n",
       "      <td>42</td>\n",
       "      <td>29702.339833</td>\n",
       "      <td>28993.888313</td>\n",
       "    </tr>\n",
       "    <tr>\n",
       "      <th>17</th>\n",
       "      <td>44</td>\n",
       "      <td>33855.435499</td>\n",
       "      <td>30735.075831</td>\n",
       "    </tr>\n",
       "    <tr>\n",
       "      <th>18</th>\n",
       "      <td>46</td>\n",
       "      <td>41328.125650</td>\n",
       "      <td>32476.263350</td>\n",
       "    </tr>\n",
       "    <tr>\n",
       "      <th>19</th>\n",
       "      <td>48</td>\n",
       "      <td>26402.263310</td>\n",
       "      <td>34217.450869</td>\n",
       "    </tr>\n",
       "    <tr>\n",
       "      <th>20</th>\n",
       "      <td>50</td>\n",
       "      <td>30264.953300</td>\n",
       "      <td>35958.638387</td>\n",
       "    </tr>\n",
       "    <tr>\n",
       "      <th>21</th>\n",
       "      <td>52</td>\n",
       "      <td>36274.404993</td>\n",
       "      <td>37699.825906</td>\n",
       "    </tr>\n",
       "    <tr>\n",
       "      <th>22</th>\n",
       "      <td>54</td>\n",
       "      <td>32701.206764</td>\n",
       "      <td>39441.013425</td>\n",
       "    </tr>\n",
       "    <tr>\n",
       "      <th>23</th>\n",
       "      <td>56</td>\n",
       "      <td>40958.414764</td>\n",
       "      <td>41182.200944</td>\n",
       "    </tr>\n",
       "    <tr>\n",
       "      <th>24</th>\n",
       "      <td>58</td>\n",
       "      <td>47746.028559</td>\n",
       "      <td>42923.388462</td>\n",
       "    </tr>\n",
       "  </tbody>\n",
       "</table>\n",
       "</div>"
      ],
      "text/plain": [
       "    x_volt          y_lm         y_mmq\n",
       "0       10  -9975.530825   1134.888013\n",
       "1       12   5533.646693   2876.075532\n",
       "2       14    761.023172   4617.263050\n",
       "3       16  20245.782889   6358.450569\n",
       "4       18   2656.569042   8099.638088\n",
       "5       20  17246.190378   9840.825607\n",
       "6       22   2837.426231  11582.013125\n",
       "7       24   8689.808312  13323.200644\n",
       "8       26  21207.007780  15064.388163\n",
       "9       28  15697.892940  16805.575681\n",
       "10      30  16974.465434  18546.763200\n",
       "11      32  25582.510221  20287.950719\n",
       "12      34  24175.181177  22029.138238\n",
       "13      36  33431.586304  23770.325756\n",
       "14      38  24261.704102  25511.513275\n",
       "15      40  22170.019419  27252.700794\n",
       "16      42  29702.339833  28993.888313\n",
       "17      44  33855.435499  30735.075831\n",
       "18      46  41328.125650  32476.263350\n",
       "19      48  26402.263310  34217.450869\n",
       "20      50  30264.953300  35958.638387\n",
       "21      52  36274.404993  37699.825906\n",
       "22      54  32701.206764  39441.013425\n",
       "23      56  40958.414764  41182.200944\n",
       "24      58  47746.028559  42923.388462"
      ]
     },
     "execution_count": 12,
     "metadata": {},
     "output_type": "execute_result"
    }
   ],
   "source": [
    "dados"
   ]
  },
  {
   "cell_type": "markdown",
   "metadata": {},
   "source": [
    "## Pontando a reta encontrada pelo método de Mínimos Quadrados "
   ]
  },
  {
   "cell_type": "code",
   "execution_count": 13,
   "metadata": {},
   "outputs": [
    {
     "data": {
      "text/plain": [
       "Text(0.5, 0, 'Tensão [v]')"
      ]
     },
     "execution_count": 13,
     "metadata": {},
     "output_type": "execute_result"
    },
    {
     "data": {
      "image/png": "[encoded data removed]",
      "text/plain": [
       "<Figure size 432x288 with 1 Axes>"
      ]
     },
     "metadata": {
      "needs_background": "light"
     },
     "output_type": "display_data"
    }
   ],
   "source": [
    "fig = plt.figure()\n",
    "ax = fig.add_subplot(1, 1, 1)\n",
    "ax.plot(dados['x_volt'],dados['y_lm'],'bs')\n",
    "ax.plot(dados['x_volt'],dados['y_mmq'])\n",
    "ax.set_ylabel('fluxo Luminoso [lm]')\n",
    "ax.set_xlabel('Tensão [v]')"
   ]
  },
  {
   "cell_type": "code",
   "execution_count": 14,
   "metadata": {},
   "outputs": [],
   "source": [
    "import statsmodels.api as sm"
   ]
  },
  {
   "cell_type": "code",
   "execution_count": 15,
   "metadata": {},
   "outputs": [],
   "source": [
    "Y = dados['y_lm']\n",
    "X = sm.add_constant(dados['x_volt'])"
   ]
  },
  {
   "cell_type": "code",
   "execution_count": 17,
   "metadata": {},
   "outputs": [
    {
     "name": "stdout",
     "output_type": "stream",
     "text": [
      "                            OLS Regression Results                            \n",
      "==============================================================================\n",
      "Dep. Variable:                   y_lm   R-squared:                       0.803\n",
      "Model:                            OLS   Adj. R-squared:                  0.794\n",
      "Method:                 Least Squares   F-statistic:                     93.62\n",
      "Date:                Thu, 22 Apr 2021   Prob (F-statistic):           1.42e-09\n",
      "Time:                        09:49:05   Log-Likelihood:                -253.88\n",
      "No. Observations:                  25   AIC:                             511.8\n",
      "Df Residuals:                      23   BIC:                             514.2\n",
      "Df Model:                           1                                         \n",
      "Covariance Type:            nonrobust                                         \n",
      "==============================================================================\n",
      "                 coef    std err          t      P>|t|      [0.025      0.975]\n",
      "------------------------------------------------------------------------------\n",
      "const      -7571.0496   3323.113     -2.278      0.032   -1.44e+04    -696.666\n",
      "x_volt       870.5938     89.978      9.676      0.000     684.459    1056.728\n",
      "==============================================================================\n",
      "Omnibus:                        0.748   Durbin-Watson:                   2.322\n",
      "Prob(Omnibus):                  0.688   Jarque-Bera (JB):                0.797\n",
      "Skew:                           0.293   Prob(JB):                        0.671\n",
      "Kurtosis:                       2.350   Cond. No.                         94.6\n",
      "==============================================================================\n",
      "\n",
      "Notes:\n",
      "[1] Standard Errors assume that the covariance matrix of the errors is correctly specified.\n"
     ]
    }
   ],
   "source": [
    "resultado_regressao = sm.OLS(Y, X).fit()\n",
    "print(resultado_regressao.summary())"
   ]
  },
  {
   "cell_type": "markdown",
   "metadata": {},
   "source": [
    "# Conclusão"
   ]
  },
  {
   "cell_type": "markdown",
   "metadata": {},
   "source": [
    "Existe uma correlação entre a tensão aplicada na caixa e o fluxo luminoso. No teste de correlação teve um valor de  0.90 aproximadamente. Na aproximação da Reta por mínimos quadrados teve um erro padrão de 3323,11 lm na estimativa do coeficiente linear e 90 no coeficiente angular. Ou seja, pelo valor P a reta está bem proxíma da reta ideal da caixa. Com isso podemos inferir que o objeto encontrado poderia ser ultilizado talvez como uma lanterna, porem mas estudos ainda precisam ser feitos para determinar outras propriedades da caixa.\n"
   ]
  },
  {
   "cell_type": "markdown",
   "metadata": {},
   "source": [
    "# Referências "
   ]
  },
  {
   "cell_type": "markdown",
   "metadata": {},
   "source": [
    "https://pt.wikipedia.org/wiki/Incidente_de_Varginha\n",
    "\n",
    "https://pt.wikipedia.org/wiki/Carl_Friedrich_Gauss\n",
    "\n",
    "https://pt.wikipedia.org/wiki/M%C3%A9todo_dos_m%C3%ADnimos_quadrados"
   ]
  },
  {
   "cell_type": "code",
   "execution_count": null,
   "metadata": {},
   "outputs": [],
   "source": []
  }
 ],
 "metadata": {
  "kernelspec": {
   "display_name": "Python 3",
   "language": "python",
   "name": "python3"
  },
  "language_info": {
   "codemirror_mode": {
    "name": "ipython",
    "version": 3
   },
   "file_extension": ".py",
   "mimetype": "text/x-python",
   "name": "python",
   "nbconvert_exporter": "python",
   "pygments_lexer": "ipython3",
   "version": "3.7.3"
  }
 },
 "nbformat": 4,
 "nbformat_minor": 2
}
